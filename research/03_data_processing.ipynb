{
 "cells": [
  {
   "cell_type": "markdown",
   "id": "d0f23ba9",
   "metadata": {},
   "source": [
    "## Trial-runs for data processing step"
   ]
  },
  {
   "cell_type": "code",
   "execution_count": 25,
   "id": "123204b6",
   "metadata": {},
   "outputs": [],
   "source": [
    "import os "
   ]
  },
  {
   "cell_type": "code",
   "execution_count": 26,
   "id": "0c829197",
   "metadata": {},
   "outputs": [],
   "source": [
    "os.chdir(r\"C:\\Users\\Junior\\OneDrive\\Desktop\\Heart-Attack-Prediction-Model\")"
   ]
  },
  {
   "cell_type": "markdown",
   "id": "2ce9ec91",
   "metadata": {},
   "source": [
    "## Trial-runs for entity_config "
   ]
  },
  {
   "cell_type": "code",
   "execution_count": 27,
   "id": "655b9067",
   "metadata": {},
   "outputs": [],
   "source": [
    "from dataclasses import dataclass\n",
    "from pathlib import Path\n",
    "\n",
    "@dataclass(frozen=True)\n",
    "class DataProcessingConfig:\n",
    "    root_dir: Path\n",
    "    unzip_data_dir: Path\n",
    "    selected_data_file: Path \n",
    "    validation_report: Path\n",
    "    all_schema: dict\n",
    "    target_column: str"
   ]
  },
  {
   "cell_type": "markdown",
   "id": "bfd702c1",
   "metadata": {},
   "source": [
    "## Trial-runs for configuration file"
   ]
  },
  {
   "cell_type": "code",
   "execution_count": 28,
   "id": "4b864199",
   "metadata": {},
   "outputs": [],
   "source": [
    "#importing all project paths and modules necessary for project configurations \n",
    "from heartAttack.constants import  *\n",
    "from heartAttack.utils.common import read_yaml, create_directories"
   ]
  },
  {
   "cell_type": "code",
   "execution_count": 29,
   "id": "d32773f8",
   "metadata": {},
   "outputs": [],
   "source": [
    "#Updating the configuration file \n",
    "class ConfigurationManager:\n",
    "    def __init__(\n",
    "        self, \n",
    "        config_filepath = CONFIG_FILE_PATH, \n",
    "        params_filepath = PARAMS_FILE_PATH,\n",
    "        selected_schema_filepath = SELECTED_SCHEMA_FILE_PATH):\n",
    "\n",
    "        self.config = read_yaml(config_filepath)\n",
    "        self.params = read_yaml(params_filepath)\n",
    "        self.selected_schema = read_yaml(selected_schema_filepath)\n",
    "       \n",
    "        create_directories([self.config.artifacts_root])\n",
    "    \n",
    "    def get_data_processing_config(self) -> DataProcessingConfig:\n",
    "        config = self.config.data_processing\n",
    "        data_validation_config = self.config.data_validation\n",
    "        selected_schema = self.selected_schema.COLUMNS  \n",
    "            \n",
    "        # Get target column from selected_schema \n",
    "        target_column = getattr(self.selected_schema, 'TARGET_COLUMN', None)\n",
    "        if target_column is None:\n",
    "            raise ValueError(\"Target column not specified in selected schema\")\n",
    "        \n",
    "        create_directories([config.root_dir])\n",
    "        \n",
    "        data_processing_config = DataProcessingConfig(\n",
    "            root_dir=Path(config.root_dir),\n",
    "            validation_report= Path(config.validation_report),\n",
    "            selected_data_file=Path(config.selected_data_file),\n",
    "            all_schema=selected_schema,\n",
    "            unzip_data_dir=Path(data_validation_config.unzip_data_dir),\n",
    "            target_column=target_column  \n",
    "        )\n",
    "        return data_processing_config"
   ]
  },
  {
   "cell_type": "markdown",
   "id": "7ab0974f",
   "metadata": {},
   "source": [
    "## Trial-runs for data_processing_component"
   ]
  },
  {
   "cell_type": "code",
   "execution_count": 30,
   "id": "1927a9d7",
   "metadata": {},
   "outputs": [],
   "source": [
    "import os \n",
    "from heartAttack import logger\n",
    "import pandas as pd "
   ]
  },
  {
   "cell_type": "code",
   "execution_count": 31,
   "id": "f254c3ba",
   "metadata": {},
   "outputs": [],
   "source": [
    "class DataProcessing:\n",
    "    def __init__(self, config: DataProcessingConfig):\n",
    "        self.config = config\n",
    "    \n",
    "    def extract_and_save_features(self):\n",
    "        \"\"\"Load, validate, and save selected features\"\"\"\n",
    "        try:\n",
    "            df = pd.read_csv(self.config.unzip_data_dir)\n",
    "            selected_columns = list(self.config.all_schema.keys())\n",
    "            \n",
    "            # Validate and select columns\n",
    "            if missing := [col for col in selected_columns if col not in df.columns]:\n",
    "                raise ValueError(f\"Missing columns: {missing}\")\n",
    "            \n",
    "            selected_df = df[selected_columns].copy()\n",
    "            self.config.selected_data_file.parent.mkdir(parents=True, exist_ok=True)\n",
    "            selected_df.to_csv(self.config.selected_data_file, index=False)\n",
    "            \n",
    "            # Log results\n",
    "            logger.info(f\"Saved {len(selected_columns)} features to {self.config.selected_data_file}\")\n",
    "            if hasattr(self.config, 'target_column'):\n",
    "                logger.info(f\"Target column: {self.config.target_column}\")\n",
    "            \n",
    "            return selected_df\n",
    "            \n",
    "        except Exception as e:\n",
    "            logger.error(f\"Feature extraction failed: {e}\")\n",
    "            raise\n",
    "    \n",
    "    def validate_all_columns(self) -> bool:\n",
    "        \"\"\"Validate data against schema\"\"\"\n",
    "        try:\n",
    "            data = pd.read_csv(self.config.selected_data_file)\n",
    "            schema_cols = set(self.config.all_schema.keys())\n",
    "            data_cols = set(data.columns)\n",
    "            \n",
    "            validation_status = data_cols.issubset(schema_cols)\n",
    "            report_content = (\n",
    "                f\"Validation status: {validation_status}\\n\"\n",
    "                f\"Data columns: {sorted(data_cols)}\\n\"\n",
    "                f\"Schema columns: {sorted(schema_cols)}\"\n",
    "            )\n",
    "            \n",
    "            self.config.validation_report.parent.mkdir(exist_ok=True, parents=True)\n",
    "            self.config.validation_report.write_text(report_content)\n",
    "            \n",
    "            logger.info(f\"Validation {'passed' if validation_status else 'failed'}\")\n",
    "            return validation_status\n",
    "            \n",
    "        except Exception as e:\n",
    "            logger.error(f\"Validation failed: {e}\")\n",
    "            raise"
   ]
  },
  {
   "cell_type": "markdown",
   "id": "b1713a04",
   "metadata": {},
   "source": [
    "## Trial-runs for data_processing_pipeline"
   ]
  },
  {
   "cell_type": "code",
   "execution_count": 32,
   "id": "40634dc9",
   "metadata": {},
   "outputs": [
    {
     "name": "stdout",
     "output_type": "stream",
     "text": [
      "[2025-07-29 22:04:55,994: INFO: common: yaml_file: config\\config.yaml loaded successfully]\n",
      "[2025-07-29 22:04:55,998: INFO: common: yaml_file: params.yaml loaded successfully]\n",
      "[2025-07-29 22:04:56,004: INFO: common: yaml_file: selected_schema.yaml loaded successfully]\n",
      "[2025-07-29 22:04:56,006: INFO: common: Created directory at: artifacts]\n",
      "[2025-07-29 22:04:56,007: INFO: common: Created directory at: artifacts/data_processing]\n",
      "[2025-07-29 22:04:56,025: INFO: 404485137: Saved 10 features to artifacts\\data_processing\\selected_features.csv]\n",
      "[2025-07-29 22:04:56,030: INFO: 404485137: Target column: {'name': 'heart_attack'}]\n",
      "[2025-07-29 22:04:56,063: INFO: 404485137: Validation passed]\n"
     ]
    }
   ],
   "source": [
    "try: \n",
    "    config = ConfigurationManager()\n",
    "    data_processing_config = config.get_data_processing_config()\n",
    "    data_processing = DataProcessing(config=data_processing_config)\n",
    "    data_processing.extract_and_save_features()\n",
    "    data_processing.validate_all_columns()\n",
    "except Exception as e:\n",
    "\n",
    "    raise e"
   ]
  }
 ],
 "metadata": {
  "kernelspec": {
   "display_name": "heartAttack",
   "language": "python",
   "name": "python3"
  },
  "language_info": {
   "codemirror_mode": {
    "name": "ipython",
    "version": 3
   },
   "file_extension": ".py",
   "mimetype": "text/x-python",
   "name": "python",
   "nbconvert_exporter": "python",
   "pygments_lexer": "ipython3",
   "version": "3.10.16"
  }
 },
 "nbformat": 4,
 "nbformat_minor": 5
}
