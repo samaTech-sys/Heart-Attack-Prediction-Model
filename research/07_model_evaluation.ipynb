{
 "cells": [
  {
   "cell_type": "markdown",
   "id": "796c09a7",
   "metadata": {},
   "source": [
    "## Trial-runs for model evalaution"
   ]
  },
  {
   "cell_type": "code",
   "execution_count": 48,
   "id": "4150697a",
   "metadata": {},
   "outputs": [],
   "source": [
    "import os "
   ]
  },
  {
   "cell_type": "code",
   "execution_count": 49,
   "id": "2c37cb1e",
   "metadata": {},
   "outputs": [],
   "source": [
    "os.chdir(r\"C:\\Users\\Junior\\OneDrive\\Desktop\\Heart-Attack-Prediction-Model\")"
   ]
  },
  {
   "cell_type": "code",
   "execution_count": 50,
   "id": "0eb4fd92",
   "metadata": {},
   "outputs": [],
   "source": [
    "os.environ[\"MLFLOW_TRACKING_URI\"] = \"https://dagshub.com/samaTech-sys/Heart-Attack-Prediction-Model.mlflow\"\n",
    "os.environ[\"MLFLOW_TRACKING_USERNAME\"] = \"SamaTech-sys\"\n",
    "os.environ[\"MLFLOW_TRACKING_PASSWORD\"] = \"15c5a4aded0b84ca14020e0ad84ef46f6ab76f8f\""
   ]
  },
  {
   "cell_type": "markdown",
   "id": "711d33e3",
   "metadata": {},
   "source": [
    "## Trial-runs for entity_config"
   ]
  },
  {
   "cell_type": "code",
   "execution_count": 51,
   "id": "74f71976",
   "metadata": {},
   "outputs": [],
   "source": [
    "from dataclasses import dataclass\n",
    "from pathlib import Path\n",
    "\n",
    "@dataclass(frozen=True)\n",
    "class ModelEvaluationConfig:\n",
    "    root_dir: Path\n",
    "    test_data_path: Path \n",
    "    model_path: Path \n",
    "    all_params: dict\n",
    "    metric_file_name: Path\n",
    "    target_column: str\n",
    "    mlflow_uri: str"
   ]
  },
  {
   "cell_type": "markdown",
   "id": "3eacaef3",
   "metadata": {},
   "source": [
    "## Trial-runs for ConfigurationManager"
   ]
  },
  {
   "cell_type": "code",
   "execution_count": 52,
   "id": "6ed07dff",
   "metadata": {},
   "outputs": [],
   "source": [
    "#importing all project paths and modules necessary for project configurations \n",
    "from heartAttack.constants import *\n",
    "from heartAttack.utils.common import read_yaml, create_directories"
   ]
  },
  {
   "cell_type": "code",
   "execution_count": 53,
   "id": "42b5a401",
   "metadata": {},
   "outputs": [],
   "source": [
    "#Updating the configuration file \n",
    "class ConfigurationManager:\n",
    "    def __init__(\n",
    "        self, \n",
    "        config_filepath = CONFIG_FILE_PATH, \n",
    "        params_filepath = PARAMS_FILE_PATH,\n",
    "        selected_schema_filepath = SCHEMA_FILE_PATH):\n",
    "\n",
    "        self.config = read_yaml(config_filepath)\n",
    "        self.params = read_yaml(params_filepath)\n",
    "        self.selected_schema = read_yaml(selected_schema_filepath)\n",
    "       \n",
    "        create_directories([self.config.artifacts_root])\n",
    "    \n",
    "    def get_model_evaluation_config(self) -> ModelEvaluationConfig:\n",
    "        config = self.config.model_evaluation\n",
    "        params = self.params.ELASTICNET\n",
    "        target_column = self.params.TARGET_COLUMN.name  # Accessing nested key\n",
    "\n",
    "        create_directories([config.root_dir])\n",
    "\n",
    "        model_evaluation_config = ModelEvaluationConfig(\n",
    "            root_dir=config.root_dir,\n",
    "            test_data_path=config.test_data_path,\n",
    "            model_path=config.model_path,\n",
    "            all_params=params,\n",
    "            metric_file_name=config.metric_file_name,\n",
    "            target_column=target_column,\n",
    "            mlflow_uri=\"https://dagshub.com/samaTech-sys/Heart-Attack-Prediction-Model.mlflow\"\n",
    "        )\n",
    "        \n",
    "        return model_evaluation_config\n"
   ]
  },
  {
   "cell_type": "markdown",
   "id": "be8a864b",
   "metadata": {},
   "source": [
    "## Trial-runs for component"
   ]
  },
  {
   "cell_type": "code",
   "execution_count": 54,
   "id": "476c0dc0",
   "metadata": {},
   "outputs": [],
   "source": [
    "import os \n",
    "import pandas as pd\n",
    "from sklearn.metrics import mean_absolute_error, mean_absolute_error, r2_score\n",
    "from urllib.parse import urlparse\n",
    "import numpy as np\n",
    "import joblib\n",
    "import mlflow\n",
    "import mlflow.sklearn\n",
    "from heartAttack.utils.common import save_json"
   ]
  },
  {
   "cell_type": "code",
   "execution_count": 55,
   "id": "5779d0a0",
   "metadata": {},
   "outputs": [],
   "source": [
    "class ModelEvaluation: \n",
    "    def __init__(self, config: ModelEvaluationConfig):\n",
    "        self.config = config\n",
    "        \n",
    "    def eval_metrics(self, actual, pred): \n",
    "        rmse = np.sqrt(mean_absolute_error(actual, pred))\n",
    "        mse = mean_absolute_error(actual, pred)\n",
    "        r2 = r2_score(actual, pred)\n",
    "        return rmse, mse, r2\n",
    "\n",
    "    def log_into_mlflow(self): \n",
    "        test_data = pd.read_csv(self.config.test_data_path)\n",
    "        model = joblib.load(self.config.model_path)\n",
    "        \n",
    "        test_x = test_data.drop([self.config.target_column], axis =1)\n",
    "        test_y = test_data[self.config.target_column]\n",
    "        \n",
    "        mlflow.set_registry_uri(self.config.mlflow_uri)\n",
    "        tracking_url_type_store = urlparse(mlflow.get_tracking_uri()).scheme\n",
    "        \n",
    "        with mlflow.start_run():\n",
    "            predicted_qualities = model.predict(test_x)\n",
    "            (rmse, mse, r2) = self.eval_metrics(test_y, predicted_qualities)\n",
    "            \n",
    "            #saving metrics as local \n",
    "            scores = {\"rmse\": rmse, \"mse\": mse, \"r2\": r2}\n",
    "            save_json(path=Path(self.config.metric_file_name), data=scores)\n",
    "            \n",
    "            mlflow.log_params(self.config.all_params)\n",
    "            mlflow.log_metric(\"rmse\", rmse)\n",
    "            mlflow.log_metric(\"mse\", mse)\n",
    "            mlflow.log_metric(\"r2\", r2)\n",
    "            \n",
    "            #model registry does not work with filestore\n",
    "            if tracking_url_type_store != \"file\":\n",
    "                #Register the model \n",
    "                #There are other ways to use the model registry that depend on the use case\n",
    "                #Please refer to the doc for more information \n",
    "                mlflow.sklearn.log_model(model, \"model\", registered_model_name=\"ElasticnetModel\")\n",
    "            else: \n",
    "                mlflow.sklearn.log_model(model, \"model\")"
   ]
  },
  {
   "cell_type": "markdown",
   "id": "5bc8865e",
   "metadata": {},
   "source": [
    "## Trial-runs for the pipelines"
   ]
  },
  {
   "cell_type": "code",
   "execution_count": 56,
   "id": "8a414171",
   "metadata": {},
   "outputs": [
    {
     "name": "stdout",
     "output_type": "stream",
     "text": [
      "[2025-07-29 23:59:53,332: INFO: common: yaml_file: config\\config.yaml loaded successfully]\n",
      "[2025-07-29 23:59:53,336: INFO: common: yaml_file: params.yaml loaded successfully]\n",
      "[2025-07-29 23:59:53,339: INFO: common: yaml_file: schema.yaml loaded successfully]\n",
      "[2025-07-29 23:59:53,341: INFO: common: Created directory at: artifacts]\n",
      "[2025-07-29 23:59:53,343: INFO: common: Created directory at: artifacts/model_evaluation]\n",
      "[2025-07-29 23:59:55,665: INFO: common: json file saved atartifacts\\model_evaluation\\metrics.json]\n"
     ]
    },
    {
     "name": "stderr",
     "output_type": "stream",
     "text": [
      "Successfully registered model 'ElasticnetModel'.\n",
      "2025/07/30 00:00:13 INFO mlflow.store.model_registry.abstract_store: Waiting up to 300 seconds for model version to finish creation. Model name: ElasticnetModel, version 1\n",
      "Created version '1' of model 'ElasticnetModel'.\n"
     ]
    }
   ],
   "source": [
    "#Update pipeline Step \n",
    "try: \n",
    "    config = ConfigurationManager()\n",
    "    model_evaluation_config =config.get_model_evaluation_config()\n",
    "    model_evaluation_config = ModelEvaluation(config=model_evaluation_config)\n",
    "    model_evaluation_config.log_into_mlflow()\n",
    "except Exception as e:\n",
    "    raise e"
   ]
  }
 ],
 "metadata": {
  "kernelspec": {
   "display_name": "heartAttack",
   "language": "python",
   "name": "python3"
  },
  "language_info": {
   "codemirror_mode": {
    "name": "ipython",
    "version": 3
   },
   "file_extension": ".py",
   "mimetype": "text/x-python",
   "name": "python",
   "nbconvert_exporter": "python",
   "pygments_lexer": "ipython3",
   "version": "3.10.16"
  }
 },
 "nbformat": 4,
 "nbformat_minor": 5
}
