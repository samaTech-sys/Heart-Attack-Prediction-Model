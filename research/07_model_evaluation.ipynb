{
 "cells": [
  {
   "cell_type": "markdown",
   "id": "796c09a7",
   "metadata": {},
   "source": [
    "## Trial-runs for model evalaution"
   ]
  },
  {
   "cell_type": "code",
   "execution_count": 2,
   "id": "4150697a",
   "metadata": {},
   "outputs": [],
   "source": [
    "import os "
   ]
  },
  {
   "cell_type": "code",
   "execution_count": 3,
   "id": "2c37cb1e",
   "metadata": {},
   "outputs": [],
   "source": [
    "os.chdir(r\"C:\\Users\\USER\\Desktop\\MLDefaults\\Rising-Village-Prediction-Model\")"
   ]
  }
 ],
 "metadata": {
  "kernelspec": {
   "display_name": "raisingVillage",
   "language": "python",
   "name": "python3"
  },
  "language_info": {
   "codemirror_mode": {
    "name": "ipython",
    "version": 3
   },
   "file_extension": ".py",
   "mimetype": "text/x-python",
   "name": "python",
   "nbconvert_exporter": "python",
   "pygments_lexer": "ipython3",
   "version": "3.10.16"
  }
 },
 "nbformat": 4,
 "nbformat_minor": 5
}
