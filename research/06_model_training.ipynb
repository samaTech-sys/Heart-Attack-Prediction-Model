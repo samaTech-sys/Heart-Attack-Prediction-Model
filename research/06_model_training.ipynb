{
 "cells": [
  {
   "cell_type": "markdown",
   "id": "3d28acb6",
   "metadata": {},
   "source": [
    "## Model Training Trial-runs "
   ]
  },
  {
   "cell_type": "code",
   "execution_count": 1,
   "id": "ce47ad7a",
   "metadata": {},
   "outputs": [],
   "source": [
    "import os "
   ]
  },
  {
   "cell_type": "code",
   "execution_count": 2,
   "id": "defc3f35",
   "metadata": {},
   "outputs": [],
   "source": [
    "os.chdir(r\"C:\\Users\\USER\\Desktop\\MLDefaults\\Heart-Attack-Prediction-Model\")"
   ]
  },
  {
   "cell_type": "markdown",
   "id": "aac1993f",
   "metadata": {},
   "source": [
    "## Trial-runs for entity_config "
   ]
  },
  {
   "cell_type": "code",
   "execution_count": null,
   "id": "1e7bc852",
   "metadata": {},
   "outputs": [],
   "source": []
  }
 ],
 "metadata": {
  "kernelspec": {
   "display_name": "raisingVillage",
   "language": "python",
   "name": "python3"
  },
  "language_info": {
   "codemirror_mode": {
    "name": "ipython",
    "version": 3
   },
   "file_extension": ".py",
   "mimetype": "text/x-python",
   "name": "python",
   "nbconvert_exporter": "python",
   "pygments_lexer": "ipython3",
   "version": "3.10.16"
  }
 },
 "nbformat": 4,
 "nbformat_minor": 5
}
