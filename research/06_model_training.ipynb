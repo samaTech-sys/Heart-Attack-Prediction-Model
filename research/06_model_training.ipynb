{
 "cells": [
  {
   "cell_type": "markdown",
   "id": "3d28acb6",
   "metadata": {},
   "source": [
    "## Model Training Trial-runs "
   ]
  },
  {
   "cell_type": "code",
   "execution_count": 1,
   "id": "ce47ad7a",
   "metadata": {},
   "outputs": [],
   "source": [
    "import os "
   ]
  },
  {
   "cell_type": "code",
   "execution_count": 2,
   "id": "defc3f35",
   "metadata": {},
   "outputs": [],
   "source": [
    "os.chdir(r\"C:\\Users\\Junior\\OneDrive\\Desktop\\Heart-Attack-Prediction-Model\")"
   ]
  },
  {
   "cell_type": "markdown",
   "id": "aac1993f",
   "metadata": {},
   "source": [
    "## Trial-runs for entity_config "
   ]
  },
  {
   "cell_type": "code",
   "execution_count": 3,
   "id": "1e7bc852",
   "metadata": {},
   "outputs": [],
   "source": [
    "from dataclasses import dataclass\n",
    "from pathlib import Path\n",
    "\n",
    "@dataclass(frozen=True)\n",
    "class ModelTrainerConfig:\n",
    "    root_dir: Path\n",
    "    train_data_path: Path\n",
    "    test_data_path: Path \n",
    "    model_name: str \n",
    "    alpha: float\n",
    "    l1_ratio: float\n",
    "    target_column: str"
   ]
  },
  {
   "cell_type": "markdown",
   "id": "c5d984a2",
   "metadata": {},
   "source": [
    "Traial-runs for ConfigManager"
   ]
  },
  {
   "cell_type": "code",
   "execution_count": 4,
   "id": "3c37b6f8",
   "metadata": {},
   "outputs": [],
   "source": [
    "#importing all project paths and modules necessary for project configurations \n",
    "from heartAttack.constants import  *\n",
    "from heartAttack.utils.common import read_yaml, create_directories"
   ]
  },
  {
   "cell_type": "code",
   "execution_count": 5,
   "id": "2825fc3f",
   "metadata": {},
   "outputs": [],
   "source": [
    "#Updating the configuration file \n",
    "class ConfigurationManager:\n",
    "    def __init__(\n",
    "        self, \n",
    "        config_filepath = CONFIG_FILE_PATH, \n",
    "        params_filepath = PARAMS_FILE_PATH,\n",
    "        \n",
    "        selected_schema_filepath = SELECTED_SCHEMA_FILE_PATH):\n",
    "\n",
    "        self.config = read_yaml(config_filepath)\n",
    "        self.params = read_yaml(params_filepath)\n",
    "        self.selected_schema = read_yaml(selected_schema_filepath)\n",
    "       \n",
    "        create_directories([self.config.artifacts_root])\n",
    "    \n",
    "    def get_model_training_config(self) -> ModelTrainerConfig:\n",
    "        config = self.config.model_training\n",
    "        params = self.params.ELASTICNET\n",
    "        selected_schema = self.selected_schema.TARGET_COLUMN\n",
    "        \n",
    "        create_directories([config.root_dir])\n",
    "        \n",
    "        model_training_config = ModelTrainerConfig(\n",
    "            root_dir=config.root_dir,\n",
    "            train_data_path = config.train_data_path,\n",
    "            test_data_path = config.test_data_path,\n",
    "            model_name=config.model_name, \n",
    "            alpha= params.alpha,\n",
    "            l1_ratio= params.l1_ratio,\n",
    "            target_column=selected_schema.name\n",
    "        )\n",
    "        return model_training_config"
   ]
  },
  {
   "cell_type": "code",
   "execution_count": 6,
   "id": "fea83542",
   "metadata": {},
   "outputs": [],
   "source": [
    "import pandas as pd \n",
    "import os \n",
    "import joblib\n",
    "from sklearn.linear_model import ElasticNet\n",
    "from heartAttack import logger"
   ]
  },
  {
   "cell_type": "code",
   "execution_count": 7,
   "id": "2b6020bf",
   "metadata": {},
   "outputs": [],
   "source": [
    "class ModelTrainer:\n",
    "    def __init__(self, config: ModelTrainerConfig):\n",
    "        self.config = config\n",
    "    \n",
    "    def train(self):\n",
    "        train_data = pd.read_csv(self.config.train_data_path)\n",
    "        test_data = pd.read_csv(self.config.test_data_path)\n",
    "        \n",
    "        train_x = train_data.drop([self.config.target_column], axis=1)\n",
    "        test_x = test_data.drop([self.config.target_column], axis=1)\n",
    "        train_y = train_data[[self.config.target_column]]\n",
    "        test_y = test_data[[self.config.target_column]]\n",
    "        \n",
    "        lr = ElasticNet(alpha=self.config.alpha, l1_ratio=self.config.l1_ratio, random_state=42)\n",
    "        lr.fit(train_x, train_y)\n",
    "        \n",
    "        joblib.dump(lr, os.path.join(self.config.root_dir, self.config.model_name))"
   ]
  },
  {
   "cell_type": "code",
   "execution_count": 8,
   "id": "be19d15d",
   "metadata": {},
   "outputs": [
    {
     "name": "stdout",
     "output_type": "stream",
     "text": [
      "[2025-07-29 23:17:31,075: INFO: common: yaml_file: config\\config.yaml loaded successfully]\n",
      "[2025-07-29 23:17:31,079: INFO: common: yaml_file: params.yaml loaded successfully]\n",
      "[2025-07-29 23:17:31,082: INFO: common: yaml_file: selected_schema.yaml loaded successfully]\n",
      "[2025-07-29 23:17:31,086: INFO: common: Created directory at: artifacts]\n",
      "[2025-07-29 23:17:31,089: INFO: common: Created directory at: artifacts/model_training]\n"
     ]
    }
   ],
   "source": [
    "#pipeline \n",
    "try:\n",
    "    config = ConfigurationManager()\n",
    "    model_training_config =config.get_model_training_config()\n",
    "    model_training = ModelTrainer(config=model_training_config)\n",
    "    model_training.train()\n",
    "except Exception as e:\n",
    "    raise e"
   ]
  }
 ],
 "metadata": {
  "kernelspec": {
   "display_name": "heartAttack",
   "language": "python",
   "name": "python3"
  },
  "language_info": {
   "codemirror_mode": {
    "name": "ipython",
    "version": 3
   },
   "file_extension": ".py",
   "mimetype": "text/x-python",
   "name": "python",
   "nbconvert_exporter": "python",
   "pygments_lexer": "ipython3",
   "version": "3.10.16"
  }
 },
 "nbformat": 4,
 "nbformat_minor": 5
}
