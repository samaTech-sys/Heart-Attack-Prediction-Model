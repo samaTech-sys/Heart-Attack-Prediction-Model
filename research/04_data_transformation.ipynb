{
 "cells": [
  {
   "cell_type": "markdown",
   "id": "fe044949",
   "metadata": {},
   "source": [
    "## Data Transformation trial-runs "
   ]
  },
  {
   "cell_type": "code",
   "execution_count": 17,
   "id": "b5fcaa79",
   "metadata": {},
   "outputs": [],
   "source": [
    "import os"
   ]
  },
  {
   "cell_type": "code",
   "execution_count": 18,
   "id": "db2bdf25",
   "metadata": {},
   "outputs": [],
   "source": [
    "os.chdir(r\"C:\\Users\\Junior\\OneDrive\\Desktop\\Heart-Attack-Prediction-Model\")"
   ]
  },
  {
   "cell_type": "markdown",
   "id": "f090c0b3",
   "metadata": {},
   "source": [
    "## Trial-runs for entity_config file"
   ]
  },
  {
   "cell_type": "code",
   "execution_count": 19,
   "id": "d6dbac12",
   "metadata": {},
   "outputs": [],
   "source": [
    "from dataclasses import dataclass\n",
    "from pathlib import Path\n",
    "\n",
    "@dataclass(frozen=True)\n",
    "class DataTransformationConfig:\n",
    "    root_dir: Path\n",
    "    selected_data_file: Path\n",
    "    processed_data_file: Path"
   ]
  },
  {
   "cell_type": "markdown",
   "id": "21214d53",
   "metadata": {},
   "source": [
    "## Trial-runs for configuration file"
   ]
  },
  {
   "cell_type": "code",
   "execution_count": 20,
   "id": "cb7dc415",
   "metadata": {},
   "outputs": [],
   "source": [
    "#importing all project paths and modules necessary for project configurations \n",
    "from heartAttack.constants import  *\n",
    "from heartAttack.utils.common import read_yaml, create_directories"
   ]
  },
  {
   "cell_type": "code",
   "execution_count": 21,
   "id": "6fa09da0",
   "metadata": {},
   "outputs": [],
   "source": [
    "#Updating the configuration file \n",
    "class ConfigurationManager:\n",
    "    def __init__(\n",
    "        self, \n",
    "        config_filepath = CONFIG_FILE_PATH, \n",
    "        params_filepath = PARAMS_FILE_PATH,\n",
    "        selected_schema_filepath = SELECTED_SCHEMA_FILE_PATH):\n",
    "\n",
    "        self.config = read_yaml(config_filepath)\n",
    "        self.params = read_yaml(params_filepath)\n",
    "        self.selected_schema = read_yaml(selected_schema_filepath)\n",
    "       \n",
    "        create_directories([self.config.artifacts_root])\n",
    "    \n",
    "    def get_data_transformation_config(self) -> DataTransformationConfig:\n",
    "        config = self.config.data_transformation\n",
    "        data_processing_config = self.config.data_processing \n",
    "        \n",
    "        create_directories([config.root_dir])\n",
    "        \n",
    "        data_transformation_config = DataTransformationConfig(\n",
    "            root_dir=config.root_dir,\n",
    "            processed_data_file=Path(config.processed_data_file),\n",
    "            selected_data_file=data_processing_config.selected_data_file,\n",
    "        )\n",
    "        return data_transformation_config"
   ]
  },
  {
   "cell_type": "markdown",
   "id": "78a6fd31",
   "metadata": {},
   "source": [
    "## Trial-runs for data_transformation_pipeline"
   ]
  },
  {
   "cell_type": "code",
   "execution_count": 22,
   "id": "6b97c84a",
   "metadata": {},
   "outputs": [],
   "source": [
    "import os \n",
    "import pandas as pd \n",
    "import numpy as np\n",
    "from pathlib import Path \n",
    "from heartAttack import logger"
   ]
  },
  {
   "cell_type": "code",
   "execution_count": 23,
   "id": "28d25aa2",
   "metadata": {},
   "outputs": [],
   "source": [
    "class DataTransformation:\n",
    "    def __init__(self, config: DataTransformationConfig):\n",
    "        self.config = config\n",
    "        self.df = pd.read_csv(self.config.selected_data_file)\n",
    "        self.processed_df = None\n",
    "    \n",
    "\n",
    "    def process_and_store_data(self) -> None:\n",
    "        \"\"\"\n",
    "        Execute full processing pipeline and store results\n",
    "        Args:\n",
    "            df: Raw input DataFrame\n",
    "        \"\"\"\n",
    "        df=self.df.copy() #work on a copy of dataframe\n",
    "        df = self.fill_missing_with_mode(df)  # Step 2: Handle missing values: Example to all call classes tranforming data here\n",
    "        self.processed_df = df # Store processed data\n",
    "        \n",
    "        # Save to artifacts\n",
    "        os.makedirs(self.config.root_dir, exist_ok=True)\n",
    "        save_path = Path(self.config.root_dir) / \"processed_df.csv\"\n",
    "        df.to_csv(save_path, index=False)\n",
    "        logger.info(f\"Processed data stored at: {save_path}\")\n",
    "    \n",
    "    def fill_missing_with_mode(self, df: pd.DataFrame) -> pd.DataFrame:\n",
    "        \"\"\"\n",
    "        Fill missing values in each column with the column's mode.\n",
    "        \"\"\"\n",
    "        for col in df.columns:\n",
    "            if df[col].isnull().any():\n",
    "                try:\n",
    "                    mode_val = df[col].mode()[0]\n",
    "                    df[col].fillna(mode_val, inplace=True)\n",
    "                except Exception as e:\n",
    "                    logger.warning(f\"Could not fill missing values in column '{col}': {e}\")\n",
    "        return df"
   ]
  },
  {
   "cell_type": "markdown",
   "id": "736c3249",
   "metadata": {},
   "source": [
    "## Trial-runs for data_transformation_pipeline"
   ]
  },
  {
   "cell_type": "code",
   "execution_count": 24,
   "id": "68ee62a8",
   "metadata": {},
   "outputs": [
    {
     "name": "stdout",
     "output_type": "stream",
     "text": [
      "[2025-07-29 22:07:14,861: INFO: common: yaml_file: config\\config.yaml loaded successfully]\n",
      "[2025-07-29 22:07:14,865: INFO: common: yaml_file: params.yaml loaded successfully]\n",
      "[2025-07-29 22:07:14,872: INFO: common: yaml_file: selected_schema.yaml loaded successfully]\n",
      "[2025-07-29 22:07:14,873: INFO: common: Created directory at: artifacts]\n",
      "[2025-07-29 22:07:14,875: INFO: common: Created directory at: artifacts/data_transformation]\n",
      "[2025-07-29 22:07:14,894: INFO: 374889826: Processed data stored at: artifacts\\data_transformation\\processed_df.csv]\n"
     ]
    }
   ],
   "source": [
    "try:\n",
    "    config = ConfigurationManager()\n",
    "    data_transformation_config = config.get_data_transformation_config()\n",
    "    data_transformation = DataTransformation(config=data_transformation_config)\n",
    "    data_transformation.process_and_store_data()\n",
    "except Exception as e:\n",
    "    raise e"
   ]
  }
 ],
 "metadata": {
  "kernelspec": {
   "display_name": "heartAttack",
   "language": "python",
   "name": "python3"
  },
  "language_info": {
   "codemirror_mode": {
    "name": "ipython",
    "version": 3
   },
   "file_extension": ".py",
   "mimetype": "text/x-python",
   "name": "python",
   "nbconvert_exporter": "python",
   "pygments_lexer": "ipython3",
   "version": "3.10.16"
  }
 },
 "nbformat": 4,
 "nbformat_minor": 5
}
