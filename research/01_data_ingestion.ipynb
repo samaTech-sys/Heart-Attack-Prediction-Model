{
 "cells": [
  {
   "cell_type": "markdown",
   "id": "1ea42c8a",
   "metadata": {},
   "source": [
    "## Trail-runs for data_ingestion step"
   ]
  },
  {
   "cell_type": "code",
   "execution_count": 1,
   "id": "f3bd6192",
   "metadata": {},
   "outputs": [],
   "source": [
    "import os "
   ]
  },
  {
   "cell_type": "code",
   "execution_count": 2,
   "id": "629d73a6",
   "metadata": {},
   "outputs": [],
   "source": [
    "os.chdir(r\"C:\\Users\\Junior\\OneDrive\\Desktop\\Heart-Attack-Prediction-Model\")"
   ]
  },
  {
   "cell_type": "markdown",
   "id": "dd10ec7c",
   "metadata": {},
   "source": [
    "## Trial-runs for entity_config"
   ]
  },
  {
   "cell_type": "code",
   "execution_count": 3,
   "id": "8055227a",
   "metadata": {},
   "outputs": [],
   "source": [
    "from dataclasses import dataclass\n",
    "from pathlib import Path\n",
    "\n",
    "@dataclass(frozen=True)\n",
    "class DataIngestionConfig:\n",
    "    root_dir: Path\n",
    "    source_url: str\n",
    "    local_data_file: Path \n",
    "    unzip_dir: Path   "
   ]
  },
  {
   "cell_type": "markdown",
   "id": "9a5cd179",
   "metadata": {},
   "source": [
    "## Trial-runs for configurations file"
   ]
  },
  {
   "cell_type": "code",
   "execution_count": 4,
   "id": "4802e47e",
   "metadata": {},
   "outputs": [],
   "source": [
    "#importing all project paths and modules necessary for project configurations \n",
    "from heartAttack.constants import  *\n",
    "from heartAttack.utils.common import read_yaml, create_directories"
   ]
  },
  {
   "cell_type": "code",
   "execution_count": 5,
   "id": "00823fd5",
   "metadata": {},
   "outputs": [],
   "source": [
    "#Updating the configuration file \n",
    "class ConfigurationManager:\n",
    "    def __init__(\n",
    "        self, \n",
    "        config_filepath = CONFIG_FILE_PATH, \n",
    "        params_filepath = PARAMS_FILE_PATH,\n",
    "        schema_filepath = SCHEMA_FILE_PATH):\n",
    "\n",
    "        self.config = read_yaml(config_filepath)\n",
    "        self.params = read_yaml(params_filepath)\n",
    "        self.schema = read_yaml(schema_filepath)\n",
    "       \n",
    "        create_directories([self.config.artifacts_root])\n",
    "    \n",
    "    def get_data_ingestion_config(self) -> DataIngestionConfig:\n",
    "        config = self.config.data_ingestion\n",
    "        create_directories([config.root_dir])\n",
    "        \n",
    "        data_ingestion_config = DataIngestionConfig(\n",
    "            root_dir=config.root_dir,\n",
    "            source_url=config.source_url,\n",
    "            local_data_file=config.local_data_file, \n",
    "            unzip_dir=config.unzip_dir\n",
    "        )\n",
    "        return data_ingestion_config"
   ]
  },
  {
   "cell_type": "markdown",
   "id": "1465f778",
   "metadata": {},
   "source": [
    "## Trial-runs for data_ingestion_component"
   ]
  },
  {
   "cell_type": "code",
   "execution_count": 6,
   "id": "b80b176c",
   "metadata": {},
   "outputs": [],
   "source": [
    "import os\n",
    "from urllib import request\n",
    "import zipfile\n",
    "from heartAttack import logger\n",
    "from heartAttack.utils.common import get_size"
   ]
  },
  {
   "cell_type": "code",
   "execution_count": 7,
   "id": "9f07d189",
   "metadata": {},
   "outputs": [],
   "source": [
    "#Unpdate Components step\n",
    "class DataIngestion:\n",
    "    def __init__(self, config:DataIngestionConfig):\n",
    "        self.config = config\n",
    "        \n",
    "    def download_file(self):\n",
    "        if not os.path.exists(self.config.local_data_file):\n",
    "            filename, headers = request.urlretrieve(\n",
    "                url=self.config.source_url, \n",
    "                filename = self.config.local_data_file\n",
    "            )\n",
    "            logger.info(f\"{filename} download! with the following info: n\\{headers}\")\n",
    "        else: \n",
    "            logger.info(f\"File already exists: {get_size(Path(self.config.local_data_file))}\")\n",
    "        print(\"Downloding\", self.config.source_url)\n",
    "            \n",
    "    def extract_zip_file(self):\n",
    "        \"\"\"\n",
    "        zip_file_path: str\n",
    "        Extracts zip file into directory \n",
    "        Function returne none\n",
    "        \n",
    "        \"\"\"\n",
    "        \n",
    "        unzip_path = self.config.unzip_dir\n",
    "        # Print the actual path of the local data file and unzip directory\n",
    "        print(f\"Extracting file from: {self.config.local_data_file}\")\n",
    "        print(f\"Unzip path: {unzip_path}\")\n",
    "\n",
    "        os.makedirs(unzip_path, exist_ok=True)\n",
    "        with zipfile.ZipFile(self.config.local_data_file, \"r\") as zip_ref:\n",
    "            zip_ref.extractall(unzip_path)"
   ]
  },
  {
   "cell_type": "markdown",
   "id": "8942538e",
   "metadata": {},
   "source": [
    "## Trial-runs for data_ingestion_pipeline"
   ]
  },
  {
   "cell_type": "code",
   "execution_count": 8,
   "id": "29336107",
   "metadata": {},
   "outputs": [
    {
     "name": "stdout",
     "output_type": "stream",
     "text": [
      "[2025-07-29 21:59:01,600: INFO: common: yaml_file: config\\config.yaml loaded successfully]\n",
      "[2025-07-29 21:59:01,603: INFO: common: yaml_file: params.yaml loaded successfully]\n",
      "[2025-07-29 21:59:01,609: INFO: common: yaml_file: schema.yaml loaded successfully]\n",
      "[2025-07-29 21:59:01,612: INFO: common: Created directory at: artifacts]\n",
      "[2025-07-29 21:59:01,616: INFO: common: Created directory at: artifacts/data_ingestion]\n",
      "[2025-07-29 21:59:03,408: INFO: 1819630040: artifacts/data_ingestion/data.zip download! with the following info: n\\Connection: close\n",
      "Content-Length: 33476\n",
      "Cache-Control: max-age=300\n",
      "Content-Security-Policy: default-src 'none'; style-src 'unsafe-inline'; sandbox\n",
      "Content-Type: application/zip\n",
      "ETag: \"301ed433dca0050503e4b562032520b0197f8f6c203ee4e66547e9cfb2ebed8d\"\n",
      "Strict-Transport-Security: max-age=31536000\n",
      "X-Content-Type-Options: nosniff\n",
      "X-Frame-Options: deny\n",
      "X-XSS-Protection: 1; mode=block\n",
      "X-GitHub-Request-Id: 9E9A:2112A7:E2D1A:289782:688998C3\n",
      "Accept-Ranges: bytes\n",
      "Date: Wed, 30 Jul 2025 04:59:04 GMT\n",
      "Via: 1.1 varnish\n",
      "X-Served-By: cache-jnb7025-JNB\n",
      "X-Cache: HIT\n",
      "X-Cache-Hits: 0\n",
      "X-Timer: S1753851544.200709,VS0,VE251\n",
      "Vary: Authorization,Accept-Encoding\n",
      "Access-Control-Allow-Origin: *\n",
      "Cross-Origin-Resource-Policy: cross-origin\n",
      "X-Fastly-Request-ID: 0f1ad842c89a5411df7604a6e2ca459c82cc97cb\n",
      "Expires: Wed, 30 Jul 2025 05:04:04 GMT\n",
      "Source-Age: 0\n",
      "\n",
      "]\n",
      "Downloding https://github.com/samaTech-sys/Heart-Attack-Prediction-Model/raw/main/heart_attack_dataset.zip\n",
      "Extracting file from: artifacts/data_ingestion/data.zip\n",
      "Unzip path: artifacts/data_ingestion\n"
     ]
    }
   ],
   "source": [
    "#Update pipeline Step \n",
    "try: \n",
    "    config = ConfigurationManager()\n",
    "    data_ingestion_config =config.get_data_ingestion_config()\n",
    "    data_ingestion = DataIngestion(config=data_ingestion_config)\n",
    "    data_ingestion.download_file()\n",
    "    data_ingestion.extract_zip_file()\n",
    "except Exception as e:\n",
    "    raise e"
   ]
  }
 ],
 "metadata": {
  "kernelspec": {
   "display_name": "heartAttack",
   "language": "python",
   "name": "python3"
  },
  "language_info": {
   "codemirror_mode": {
    "name": "ipython",
    "version": 3
   },
   "file_extension": ".py",
   "mimetype": "text/x-python",
   "name": "python",
   "nbconvert_exporter": "python",
   "pygments_lexer": "ipython3",
   "version": "3.10.16"
  }
 },
 "nbformat": 4,
 "nbformat_minor": 5
}
