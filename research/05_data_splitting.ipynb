{
 "cells": [
  {
   "cell_type": "markdown",
   "id": "8260f142",
   "metadata": {},
   "source": [
    "## Data Splitting Trial-runs"
   ]
  },
  {
   "cell_type": "code",
   "execution_count": 43,
   "id": "c789f3c1",
   "metadata": {},
   "outputs": [],
   "source": [
    "import os "
   ]
  },
  {
   "cell_type": "code",
   "execution_count": 44,
   "id": "2097e9e4",
   "metadata": {},
   "outputs": [],
   "source": [
    "os.chdir(r\"C:\\Users\\Junior\\OneDrive\\Desktop\\Heart-Attack-Prediction-Model\")"
   ]
  },
  {
   "cell_type": "markdown",
   "id": "fefa635f",
   "metadata": {},
   "source": [
    "## Trial-runs for entity_config"
   ]
  },
  {
   "cell_type": "code",
   "execution_count": 45,
   "id": "7214feef",
   "metadata": {},
   "outputs": [],
   "source": [
    "from dataclasses import dataclass\n",
    "from pathlib import Path\n",
    "\n",
    "@dataclass(frozen=True)\n",
    "class DataSplittingConfig:\n",
    "    root_dir: Path\n",
    "    processed_data_file: Path\n",
    "    train_set_path: Path\n",
    "    test_set_path: Path\n",
    "    test_size: float\n",
    "    random_state: int"
   ]
  },
  {
   "cell_type": "markdown",
   "id": "cbe83708",
   "metadata": {},
   "source": [
    "## Trial-runs for configuration file"
   ]
  },
  {
   "cell_type": "code",
   "execution_count": 46,
   "id": "38406174",
   "metadata": {},
   "outputs": [],
   "source": [
    "#importing all project paths and modules necessary for project configurations \n",
    "from heartAttack.constants import  *\n",
    "from heartAttack.utils.common import read_yaml, create_directories"
   ]
  },
  {
   "cell_type": "code",
   "execution_count": 47,
   "id": "e199423c",
   "metadata": {},
   "outputs": [],
   "source": [
    "#Updating the configuration file \n",
    "class ConfigurationManager:\n",
    "    def __init__(\n",
    "        self, \n",
    "        config_filepath = CONFIG_FILE_PATH, \n",
    "        params_filepath = PARAMS_FILE_PATH,\n",
    "        selected_schema_filepath = SELECTED_SCHEMA_FILE_PATH):\n",
    "\n",
    "        self.config = read_yaml(config_filepath)\n",
    "        self.params = read_yaml(params_filepath)\n",
    "        self.selected_schema = read_yaml(selected_schema_filepath)\n",
    "       \n",
    "        create_directories([self.config.artifacts_root])\n",
    "    \n",
    "    def get_data_splitting_config(self) -> DataSplittingConfig:\n",
    "        config = self.config.data_splitting\n",
    "        data_transformation_config = self.config.data_transformation\n",
    "        params = self.params.data_splitting\n",
    "        \n",
    "        create_directories([config.root_dir])\n",
    "        \n",
    "        data_splitting_config = DataSplittingConfig(\n",
    "            root_dir=config.root_dir,\n",
    "            processed_data_file=data_transformation_config.processed_data_file, \n",
    "            train_set_path=config.train_set_path, \n",
    "            test_set_path=config.test_set_path, \n",
    "            test_size=float(params.test_size),\n",
    "            random_state=int(params.random_state)    \n",
    "        )\n",
    "        return data_splitting_config"
   ]
  },
  {
   "cell_type": "markdown",
   "id": "7693c3e3",
   "metadata": {},
   "source": [
    "## Traial-runs for data_splitting_component "
   ]
  },
  {
   "cell_type": "code",
   "execution_count": 48,
   "id": "d9697bfb",
   "metadata": {},
   "outputs": [],
   "source": [
    "import pandas as pd\n",
    "import os\n",
    "from pathlib import Path\n",
    "from heartAttack import logger\n",
    "from sklearn.model_selection import train_test_split"
   ]
  },
  {
   "cell_type": "code",
   "execution_count": 49,
   "id": "78c51247",
   "metadata": {},
   "outputs": [],
   "source": [
    "class DataSplitting: \n",
    "    def __init__(self, config: DataSplittingConfig):\n",
    "        self.config = config\n",
    "        #You can add all the different transformation techniques needed before splitting the data. \n",
    "        \n",
    "    def train_test_splitting(self):\n",
    "        data = pd.read_csv(self.config.processed_data_file)\n",
    "    #Split the data into training and test datasets \n",
    "        train, test = train_test_split(\n",
    "            data,\n",
    "            test_size=self.config.test_size,\n",
    "            random_state=self.config.random_state \n",
    "            )\n",
    "        train.to_csv(os.path.join(self.config.root_dir, \"train_set.csv\"), index=False)\n",
    "        test.to_csv(os.path.join(self.config.root_dir, \"test_set.csv\"), index=False)\n",
    "        \n",
    "        logger.info(\"Splitted data into train and test sets\")\n",
    "        logger.info(f\"Train set saved to {self.config.train_set_path}\")\n",
    "        logger.info(f\"Test set saved to {self.config.test_set_path}\")"
   ]
  },
  {
   "cell_type": "markdown",
   "id": "6645dce4",
   "metadata": {},
   "source": [
    "## Trial-runs for data_splitting_pipeline"
   ]
  },
  {
   "cell_type": "code",
   "execution_count": 50,
   "id": "86c19e16",
   "metadata": {},
   "outputs": [
    {
     "name": "stdout",
     "output_type": "stream",
     "text": [
      "[2025-07-29 22:07:34,046: INFO: common: yaml_file: config\\config.yaml loaded successfully]\n",
      "[2025-07-29 22:07:34,052: INFO: common: yaml_file: params.yaml loaded successfully]\n",
      "[2025-07-29 22:07:34,056: INFO: common: yaml_file: selected_schema.yaml loaded successfully]\n",
      "[2025-07-29 22:07:34,060: INFO: common: Created directory at: artifacts]\n",
      "[2025-07-29 22:07:34,061: INFO: common: Created directory at: artifacts/data_splitting]\n",
      "[2025-07-29 22:07:34,088: INFO: 1364125964: Splitted data into train and test sets]\n",
      "[2025-07-29 22:07:34,091: INFO: 1364125964: Train set saved to artifacts/data_splitting/train_set.csv]\n",
      "[2025-07-29 22:07:34,092: INFO: 1364125964: Test set saved to artifacts/data_splitting/test_set.csv]\n"
     ]
    }
   ],
   "source": [
    "try:\n",
    "    config = ConfigurationManager()\n",
    "    data_splitting_config =config.get_data_splitting_config()\n",
    "    data_splitting = DataSplitting(config=data_splitting_config)\n",
    "    data_splitting.train_test_splitting()\n",
    "except Exception as e:\n",
    "    raise e"
   ]
  }
 ],
 "metadata": {
  "kernelspec": {
   "display_name": "heartAttack",
   "language": "python",
   "name": "python3"
  },
  "language_info": {
   "codemirror_mode": {
    "name": "ipython",
    "version": 3
   },
   "file_extension": ".py",
   "mimetype": "text/x-python",
   "name": "python",
   "nbconvert_exporter": "python",
   "pygments_lexer": "ipython3",
   "version": "3.10.16"
  }
 },
 "nbformat": 4,
 "nbformat_minor": 5
}
