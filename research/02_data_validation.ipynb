{
 "cells": [
  {
   "cell_type": "markdown",
   "id": "1174e587",
   "metadata": {},
   "source": [
    "## Trial-runs for Data Validation Step"
   ]
  },
  {
   "cell_type": "code",
   "execution_count": 1,
   "id": "00fea878",
   "metadata": {},
   "outputs": [],
   "source": [
    "import os "
   ]
  },
  {
   "cell_type": "code",
   "execution_count": 2,
   "id": "0823c8af",
   "metadata": {},
   "outputs": [],
   "source": [
    "os.chdir(r\"C:\\Users\\Junior\\OneDrive\\Desktop\\Heart-Attack-Prediction-Model\")"
   ]
  },
  {
   "cell_type": "markdown",
   "id": "fb7dabde",
   "metadata": {},
   "source": [
    "## Trial-runs for entity_config"
   ]
  },
  {
   "cell_type": "code",
   "execution_count": 3,
   "id": "cf2dc7cd",
   "metadata": {},
   "outputs": [],
   "source": [
    "from dataclasses import dataclass\n",
    "from pathlib import Path\n",
    "\n",
    "@dataclass(frozen=True)\n",
    "class DataValidationConfig:\n",
    "    root_dir: Path\n",
    "    STATUS_FILE: str\n",
    "    unzip_data_dir: Path \n",
    "    all_schema: dict"
   ]
  },
  {
   "cell_type": "markdown",
   "id": "0c8fa0f9",
   "metadata": {},
   "source": [
    "## Trial-runs for congigurations file"
   ]
  },
  {
   "cell_type": "code",
   "execution_count": 4,
   "id": "4ef76e86",
   "metadata": {},
   "outputs": [],
   "source": [
    "#importing all project paths and modules necessary for project configurations \n",
    "from heartAttack.constants import  *\n",
    "from heartAttack.utils.common import read_yaml, create_directories"
   ]
  },
  {
   "cell_type": "code",
   "execution_count": 5,
   "id": "0789a08b",
   "metadata": {},
   "outputs": [],
   "source": [
    "#Updating the configuration file \n",
    "class ConfigurationManager:\n",
    "    def __init__(\n",
    "        self, \n",
    "        config_filepath = CONFIG_FILE_PATH, \n",
    "        params_filepath = PARAMS_FILE_PATH,\n",
    "        schema_filepath = SCHEMA_FILE_PATH):\n",
    "\n",
    "        self.config = read_yaml(config_filepath)\n",
    "        self.params = read_yaml(params_filepath)\n",
    "        self.schema = read_yaml(schema_filepath)\n",
    "       \n",
    "        create_directories([self.config.artifacts_root])\n",
    "    \n",
    "    def get_data_validation_config(self) -> DataValidationConfig:\n",
    "        config = self.config.data_validation\n",
    "        schema = self.schema.COLUMNS\n",
    "        \n",
    "        create_directories([config.root_dir])\n",
    "        \n",
    "        data_validation_config = DataValidationConfig(\n",
    "            root_dir=config.root_dir,\n",
    "            STATUS_FILE=config.STATUS_FILE,\n",
    "            unzip_data_dir=config.unzip_data_dir, \n",
    "            all_schema=schema\n",
    "        )\n",
    "        return data_validation_config"
   ]
  },
  {
   "cell_type": "markdown",
   "id": "d1572fdb",
   "metadata": {},
   "source": [
    "## Trial-runs for data_validation_component"
   ]
  },
  {
   "cell_type": "code",
   "execution_count": 6,
   "id": "187872a4",
   "metadata": {},
   "outputs": [],
   "source": [
    "\n",
    "import os \n",
    "from heartAttack import logger\n",
    "import pandas as pd "
   ]
  },
  {
   "cell_type": "code",
   "execution_count": 7,
   "id": "c72d44ea",
   "metadata": {},
   "outputs": [],
   "source": [
    "class DataValidation: \n",
    "    def __init__(self, config: DataValidationConfig):\n",
    "        self.config = config\n",
    "    \n",
    "    def validate_all_columns(self)-> bool:\n",
    "        try: \n",
    "            validation_status = None\n",
    "            data = pd.read_csv(self.config.unzip_data_dir)\n",
    "            all_cols = list(data.columns)\n",
    "            \n",
    "            all_schema = self.config.all_schema.keys()\n",
    "            \n",
    "            for col in all_cols:\n",
    "                if col not in all_schema:\n",
    "                    validation_status = False\n",
    "                    with open(self.config.STATUS_FILE, \"w\") as f:\n",
    "                        f.write(f\"Validation Status: {validation_status}\")\n",
    "            return validation_status\n",
    "        except Exception as e: \n",
    "            raise e \n",
    "                    "
   ]
  },
  {
   "cell_type": "markdown",
   "id": "a7482a67",
   "metadata": {},
   "source": [
    "## Trial-runs for data_validation_pipeline"
   ]
  },
  {
   "cell_type": "code",
   "execution_count": 8,
   "id": "40c589d7",
   "metadata": {},
   "outputs": [
    {
     "name": "stdout",
     "output_type": "stream",
     "text": [
      "[2025-07-29 21:59:12,649: INFO: common: yaml_file: config\\config.yaml loaded successfully]\n",
      "[2025-07-29 21:59:12,654: INFO: common: yaml_file: params.yaml loaded successfully]\n",
      "[2025-07-29 21:59:12,654: INFO: common: yaml_file: schema.yaml loaded successfully]\n",
      "[2025-07-29 21:59:12,654: INFO: common: Created directory at: artifacts]\n",
      "[2025-07-29 21:59:12,654: INFO: common: Created directory at: artifacts/data_validation]\n"
     ]
    }
   ],
   "source": [
    "try: \n",
    "    config = ConfigurationManager()\n",
    "    data_validation_config = config.get_data_validation_config()\n",
    "    data_validation = DataValidation(config=data_validation_config)\n",
    "    data_validation.validate_all_columns()\n",
    "except Exception as e:\n",
    "    raise e"
   ]
  }
 ],
 "metadata": {
  "kernelspec": {
   "display_name": "heartAttack",
   "language": "python",
   "name": "python3"
  },
  "language_info": {
   "codemirror_mode": {
    "name": "ipython",
    "version": 3
   },
   "file_extension": ".py",
   "mimetype": "text/x-python",
   "name": "python",
   "nbconvert_exporter": "python",
   "pygments_lexer": "ipython3",
   "version": "3.10.16"
  }
 },
 "nbformat": 4,
 "nbformat_minor": 5
}
